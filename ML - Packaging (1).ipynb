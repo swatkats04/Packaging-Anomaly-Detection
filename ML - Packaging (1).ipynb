{
 "cells": [
  {
   "cell_type": "code",
   "execution_count": 1,
   "metadata": {
    "_cell_guid": "b1076dfc-b9ad-4769-8c92-a6c4dae69d19",
    "_uuid": "8f2839f25d086af736a60e9eeb907d3b93b6e0e5"
   },
   "outputs": [
    {
     "name": "stdout",
     "output_type": "stream",
     "text": [
      "/kaggle/input/bda-2019-ml-test/Test_Mask_Dataset.csv\n",
      "/kaggle/input/bda-2019-ml-test/Sample Submission.csv\n",
      "/kaggle/input/bda-2019-ml-test/Train_Mask.csv\n"
     ]
    }
   ],
   "source": [
    "# This Python 3 environment comes with many helpful analytics libraries installed\n",
    "# It is defined by the kaggle/python Docker image: https://github.com/kaggle/docker-python\n",
    "# For example, here's several helpful packages to load\n",
    "\n",
    "import numpy as np # linear algebra\n",
    "import pandas as pd # data processing, CSV file I/O (e.g. pd.read_csv)\n",
    "\n",
    "# Input data files are available in the read-only \"../input/\" directory\n",
    "# For example, running this (by clicking run or pressing Shift+Enter) will list all files under the input directory\n",
    "\n",
    "import os\n",
    "for dirname, _, filenames in os.walk('/kaggle/input'):\n",
    "    for filename in filenames:\n",
    "        print(os.path.join(dirname, filename))\n",
    "\n",
    "# You can write up to 5GB to the current directory (/kaggle/working/) that gets preserved as output when you create a version using \"Save & Run All\" \n",
    "# You can also write temporary files to /kaggle/temp/, but they won't be saved outside of the current session"
   ]
  },
  {
   "cell_type": "markdown",
   "metadata": {},
   "source": [
    "### LOADING THE DATA"
   ]
  },
  {
   "cell_type": "code",
   "execution_count": 2,
   "metadata": {
    "_cell_guid": "79c7e3d0-c299-4dcb-8224-4455121ee9b0",
    "_uuid": "d629ff2d2480ee46fbb7e2d37f6b5fab8052498a"
   },
   "outputs": [],
   "source": [
    "#Reading the train, test and sample csv files \n",
    "train = pd.read_csv('/kaggle/input/bda-2019-ml-test/Train_Mask.csv')\n",
    "test = pd.read_csv('/kaggle/input/bda-2019-ml-test/Test_Mask_Dataset.csv')\n",
    "sample = pd.read_csv('/kaggle/input/bda-2019-ml-test/Sample Submission.csv')"
   ]
  },
  {
   "cell_type": "code",
   "execution_count": 3,
   "metadata": {},
   "outputs": [
    {
     "data": {
      "text/html": [
       "<div>\n",
       "<style scoped>\n",
       "    .dataframe tbody tr th:only-of-type {\n",
       "        vertical-align: middle;\n",
       "    }\n",
       "\n",
       "    .dataframe tbody tr th {\n",
       "        vertical-align: top;\n",
       "    }\n",
       "\n",
       "    .dataframe thead th {\n",
       "        text-align: right;\n",
       "    }\n",
       "</style>\n",
       "<table border=\"1\" class=\"dataframe\">\n",
       "  <thead>\n",
       "    <tr style=\"text-align: right;\">\n",
       "      <th></th>\n",
       "      <th>timeindex</th>\n",
       "      <th>flag</th>\n",
       "      <th>currentBack</th>\n",
       "      <th>motorTempBack</th>\n",
       "      <th>positionBack</th>\n",
       "      <th>refPositionBack</th>\n",
       "      <th>refVelocityBack</th>\n",
       "      <th>trackingDeviationBack</th>\n",
       "      <th>velocityBack</th>\n",
       "      <th>currentFront</th>\n",
       "      <th>motorTempFront</th>\n",
       "      <th>positionFront</th>\n",
       "      <th>refPositionFront</th>\n",
       "      <th>refVelocityFront</th>\n",
       "      <th>trackingDeviationFront</th>\n",
       "      <th>velocityFront</th>\n",
       "    </tr>\n",
       "  </thead>\n",
       "  <tbody>\n",
       "    <tr>\n",
       "      <th>0</th>\n",
       "      <td>1</td>\n",
       "      <td>1</td>\n",
       "      <td>30.0</td>\n",
       "      <td>46</td>\n",
       "      <td>576.499377</td>\n",
       "      <td>581.499997</td>\n",
       "      <td>7.000000</td>\n",
       "      <td>7.000623</td>\n",
       "      <td>10.000000</td>\n",
       "      <td>16.0</td>\n",
       "      <td>46</td>\n",
       "      <td>970.499907</td>\n",
       "      <td>971.499997</td>\n",
       "      <td>10.000000</td>\n",
       "      <td>8.000125</td>\n",
       "      <td>5.000000</td>\n",
       "    </tr>\n",
       "    <tr>\n",
       "      <th>1</th>\n",
       "      <td>2</td>\n",
       "      <td>1</td>\n",
       "      <td>101.0</td>\n",
       "      <td>42</td>\n",
       "      <td>576.499211</td>\n",
       "      <td>576.499999</td>\n",
       "      <td>9.000000</td>\n",
       "      <td>8.000747</td>\n",
       "      <td>7.000000</td>\n",
       "      <td>66.0</td>\n",
       "      <td>42</td>\n",
       "      <td>969.499450</td>\n",
       "      <td>969.499999</td>\n",
       "      <td>5.000000</td>\n",
       "      <td>10.000540</td>\n",
       "      <td>10.000000</td>\n",
       "    </tr>\n",
       "    <tr>\n",
       "      <th>2</th>\n",
       "      <td>3</td>\n",
       "      <td>1</td>\n",
       "      <td>815.0</td>\n",
       "      <td>41</td>\n",
       "      <td>355.576792</td>\n",
       "      <td>363.368778</td>\n",
       "      <td>584.045836</td>\n",
       "      <td>4.994664</td>\n",
       "      <td>587.020659</td>\n",
       "      <td>726.0</td>\n",
       "      <td>38</td>\n",
       "      <td>741.523412</td>\n",
       "      <td>742.361361</td>\n",
       "      <td>590.807348</td>\n",
       "      <td>4.987812</td>\n",
       "      <td>593.415386</td>\n",
       "    </tr>\n",
       "    <tr>\n",
       "      <th>3</th>\n",
       "      <td>4</td>\n",
       "      <td>1</td>\n",
       "      <td>219.0</td>\n",
       "      <td>40</td>\n",
       "      <td>577.499585</td>\n",
       "      <td>578.499998</td>\n",
       "      <td>7.000000</td>\n",
       "      <td>6.000332</td>\n",
       "      <td>8.041526</td>\n",
       "      <td>207.0</td>\n",
       "      <td>39</td>\n",
       "      <td>972.499575</td>\n",
       "      <td>971.499998</td>\n",
       "      <td>5.000000</td>\n",
       "      <td>7.000457</td>\n",
       "      <td>6.031144</td>\n",
       "    </tr>\n",
       "    <tr>\n",
       "      <th>4</th>\n",
       "      <td>5</td>\n",
       "      <td>1</td>\n",
       "      <td>76.0</td>\n",
       "      <td>40</td>\n",
       "      <td>4.998796</td>\n",
       "      <td>9.000000</td>\n",
       "      <td>6.000000</td>\n",
       "      <td>7.001246</td>\n",
       "      <td>6.000000</td>\n",
       "      <td>-13.0</td>\n",
       "      <td>43</td>\n",
       "      <td>398.999076</td>\n",
       "      <td>398.000000</td>\n",
       "      <td>6.000000</td>\n",
       "      <td>5.000914</td>\n",
       "      <td>8.000000</td>\n",
       "    </tr>\n",
       "  </tbody>\n",
       "</table>\n",
       "</div>"
      ],
      "text/plain": [
       "   timeindex  flag  currentBack  motorTempBack  positionBack  refPositionBack  \\\n",
       "0          1     1         30.0             46    576.499377       581.499997   \n",
       "1          2     1        101.0             42    576.499211       576.499999   \n",
       "2          3     1        815.0             41    355.576792       363.368778   \n",
       "3          4     1        219.0             40    577.499585       578.499998   \n",
       "4          5     1         76.0             40      4.998796         9.000000   \n",
       "\n",
       "   refVelocityBack  trackingDeviationBack  velocityBack  currentFront  \\\n",
       "0         7.000000               7.000623     10.000000          16.0   \n",
       "1         9.000000               8.000747      7.000000          66.0   \n",
       "2       584.045836               4.994664    587.020659         726.0   \n",
       "3         7.000000               6.000332      8.041526         207.0   \n",
       "4         6.000000               7.001246      6.000000         -13.0   \n",
       "\n",
       "   motorTempFront  positionFront  refPositionFront  refVelocityFront  \\\n",
       "0              46     970.499907        971.499997         10.000000   \n",
       "1              42     969.499450        969.499999          5.000000   \n",
       "2              38     741.523412        742.361361        590.807348   \n",
       "3              39     972.499575        971.499998          5.000000   \n",
       "4              43     398.999076        398.000000          6.000000   \n",
       "\n",
       "   trackingDeviationFront  velocityFront  \n",
       "0                8.000125       5.000000  \n",
       "1               10.000540      10.000000  \n",
       "2                4.987812     593.415386  \n",
       "3                7.000457       6.031144  \n",
       "4                5.000914       8.000000  "
      ]
     },
     "execution_count": 3,
     "metadata": {},
     "output_type": "execute_result"
    }
   ],
   "source": [
    "#Displaying the first 5 records of the train dataset\n",
    "train.head()"
   ]
  },
  {
   "cell_type": "code",
   "execution_count": 4,
   "metadata": {},
   "outputs": [
    {
     "data": {
      "text/html": [
       "<div>\n",
       "<style scoped>\n",
       "    .dataframe tbody tr th:only-of-type {\n",
       "        vertical-align: middle;\n",
       "    }\n",
       "\n",
       "    .dataframe tbody tr th {\n",
       "        vertical-align: top;\n",
       "    }\n",
       "\n",
       "    .dataframe thead th {\n",
       "        text-align: right;\n",
       "    }\n",
       "</style>\n",
       "<table border=\"1\" class=\"dataframe\">\n",
       "  <thead>\n",
       "    <tr style=\"text-align: right;\">\n",
       "      <th></th>\n",
       "      <th>timeindex</th>\n",
       "      <th>flag</th>\n",
       "      <th>currentBack</th>\n",
       "      <th>motorTempBack</th>\n",
       "      <th>positionBack</th>\n",
       "      <th>refPositionBack</th>\n",
       "      <th>refVelocityBack</th>\n",
       "      <th>trackingDeviationBack</th>\n",
       "      <th>velocityBack</th>\n",
       "      <th>currentFront</th>\n",
       "      <th>motorTempFront</th>\n",
       "      <th>positionFront</th>\n",
       "      <th>refPositionFront</th>\n",
       "      <th>refVelocityFront</th>\n",
       "      <th>trackingDeviationFront</th>\n",
       "      <th>velocityFront</th>\n",
       "    </tr>\n",
       "  </thead>\n",
       "  <tbody>\n",
       "    <tr>\n",
       "      <th>count</th>\n",
       "      <td>11227.00000</td>\n",
       "      <td>11227.000000</td>\n",
       "      <td>11227.000000</td>\n",
       "      <td>11227.000000</td>\n",
       "      <td>11227.000000</td>\n",
       "      <td>11227.000000</td>\n",
       "      <td>11227.000000</td>\n",
       "      <td>11227.000000</td>\n",
       "      <td>11227.000000</td>\n",
       "      <td>11227.000000</td>\n",
       "      <td>11227.000000</td>\n",
       "      <td>11227.000000</td>\n",
       "      <td>11227.000000</td>\n",
       "      <td>11227.000000</td>\n",
       "      <td>11227.000000</td>\n",
       "      <td>11227.000000</td>\n",
       "    </tr>\n",
       "    <tr>\n",
       "      <th>mean</th>\n",
       "      <td>5614.00000</td>\n",
       "      <td>0.396455</td>\n",
       "      <td>86.208159</td>\n",
       "      <td>41.389686</td>\n",
       "      <td>454.818115</td>\n",
       "      <td>455.457622</td>\n",
       "      <td>74.391243</td>\n",
       "      <td>7.509257</td>\n",
       "      <td>74.349871</td>\n",
       "      <td>175.678543</td>\n",
       "      <td>42.569698</td>\n",
       "      <td>845.152363</td>\n",
       "      <td>845.770184</td>\n",
       "      <td>74.485635</td>\n",
       "      <td>7.492794</td>\n",
       "      <td>74.490320</td>\n",
       "    </tr>\n",
       "    <tr>\n",
       "      <th>std</th>\n",
       "      <td>3241.10007</td>\n",
       "      <td>0.489183</td>\n",
       "      <td>184.142004</td>\n",
       "      <td>3.494035</td>\n",
       "      <td>217.860048</td>\n",
       "      <td>217.627546</td>\n",
       "      <td>177.001734</td>\n",
       "      <td>1.713630</td>\n",
       "      <td>177.036037</td>\n",
       "      <td>228.341186</td>\n",
       "      <td>3.608419</td>\n",
       "      <td>218.227800</td>\n",
       "      <td>217.983051</td>\n",
       "      <td>177.537284</td>\n",
       "      <td>1.709240</td>\n",
       "      <td>177.480053</td>\n",
       "    </tr>\n",
       "    <tr>\n",
       "      <th>min</th>\n",
       "      <td>1.00000</td>\n",
       "      <td>0.000000</td>\n",
       "      <td>-81.500000</td>\n",
       "      <td>30.000000</td>\n",
       "      <td>4.998650</td>\n",
       "      <td>5.000000</td>\n",
       "      <td>5.000000</td>\n",
       "      <td>4.979985</td>\n",
       "      <td>4.958474</td>\n",
       "      <td>-87.000000</td>\n",
       "      <td>30.000000</td>\n",
       "      <td>396.998371</td>\n",
       "      <td>397.000000</td>\n",
       "      <td>5.000000</td>\n",
       "      <td>4.974877</td>\n",
       "      <td>4.958474</td>\n",
       "    </tr>\n",
       "    <tr>\n",
       "      <th>25%</th>\n",
       "      <td>2807.50000</td>\n",
       "      <td>0.000000</td>\n",
       "      <td>-17.000000</td>\n",
       "      <td>39.000000</td>\n",
       "      <td>384.935546</td>\n",
       "      <td>389.770291</td>\n",
       "      <td>6.000000</td>\n",
       "      <td>6.000000</td>\n",
       "      <td>6.000000</td>\n",
       "      <td>36.000000</td>\n",
       "      <td>41.000000</td>\n",
       "      <td>767.922539</td>\n",
       "      <td>772.726670</td>\n",
       "      <td>6.000000</td>\n",
       "      <td>6.000415</td>\n",
       "      <td>6.000000</td>\n",
       "    </tr>\n",
       "    <tr>\n",
       "      <th>50%</th>\n",
       "      <td>5614.00000</td>\n",
       "      <td>0.000000</td>\n",
       "      <td>12.000000</td>\n",
       "      <td>42.000000</td>\n",
       "      <td>577.499959</td>\n",
       "      <td>577.499998</td>\n",
       "      <td>8.000000</td>\n",
       "      <td>7.001204</td>\n",
       "      <td>8.000000</td>\n",
       "      <td>98.000000</td>\n",
       "      <td>43.000000</td>\n",
       "      <td>969.499658</td>\n",
       "      <td>969.499998</td>\n",
       "      <td>8.000000</td>\n",
       "      <td>7.978946</td>\n",
       "      <td>8.000000</td>\n",
       "    </tr>\n",
       "    <tr>\n",
       "      <th>75%</th>\n",
       "      <td>8420.50000</td>\n",
       "      <td>1.000000</td>\n",
       "      <td>90.000000</td>\n",
       "      <td>44.000000</td>\n",
       "      <td>579.500000</td>\n",
       "      <td>579.499999</td>\n",
       "      <td>10.000000</td>\n",
       "      <td>9.000000</td>\n",
       "      <td>10.000000</td>\n",
       "      <td>191.000000</td>\n",
       "      <td>45.000000</td>\n",
       "      <td>971.499948</td>\n",
       "      <td>971.499999</td>\n",
       "      <td>10.000000</td>\n",
       "      <td>9.000394</td>\n",
       "      <td>10.000000</td>\n",
       "    </tr>\n",
       "    <tr>\n",
       "      <th>max</th>\n",
       "      <td>11227.00000</td>\n",
       "      <td>1.000000</td>\n",
       "      <td>2408.500000</td>\n",
       "      <td>47.000000</td>\n",
       "      <td>581.502616</td>\n",
       "      <td>581.499999</td>\n",
       "      <td>1176.261126</td>\n",
       "      <td>10.001661</td>\n",
       "      <td>1123.643342</td>\n",
       "      <td>1113.000000</td>\n",
       "      <td>49.000000</td>\n",
       "      <td>973.517597</td>\n",
       "      <td>973.499999</td>\n",
       "      <td>642.625119</td>\n",
       "      <td>10.006727</td>\n",
       "      <td>653.070908</td>\n",
       "    </tr>\n",
       "  </tbody>\n",
       "</table>\n",
       "</div>"
      ],
      "text/plain": [
       "         timeindex          flag   currentBack  motorTempBack  positionBack  \\\n",
       "count  11227.00000  11227.000000  11227.000000   11227.000000  11227.000000   \n",
       "mean    5614.00000      0.396455     86.208159      41.389686    454.818115   \n",
       "std     3241.10007      0.489183    184.142004       3.494035    217.860048   \n",
       "min        1.00000      0.000000    -81.500000      30.000000      4.998650   \n",
       "25%     2807.50000      0.000000    -17.000000      39.000000    384.935546   \n",
       "50%     5614.00000      0.000000     12.000000      42.000000    577.499959   \n",
       "75%     8420.50000      1.000000     90.000000      44.000000    579.500000   \n",
       "max    11227.00000      1.000000   2408.500000      47.000000    581.502616   \n",
       "\n",
       "       refPositionBack  refVelocityBack  trackingDeviationBack  velocityBack  \\\n",
       "count     11227.000000     11227.000000           11227.000000  11227.000000   \n",
       "mean        455.457622        74.391243               7.509257     74.349871   \n",
       "std         217.627546       177.001734               1.713630    177.036037   \n",
       "min           5.000000         5.000000               4.979985      4.958474   \n",
       "25%         389.770291         6.000000               6.000000      6.000000   \n",
       "50%         577.499998         8.000000               7.001204      8.000000   \n",
       "75%         579.499999        10.000000               9.000000     10.000000   \n",
       "max         581.499999      1176.261126              10.001661   1123.643342   \n",
       "\n",
       "       currentFront  motorTempFront  positionFront  refPositionFront  \\\n",
       "count  11227.000000    11227.000000   11227.000000      11227.000000   \n",
       "mean     175.678543       42.569698     845.152363        845.770184   \n",
       "std      228.341186        3.608419     218.227800        217.983051   \n",
       "min      -87.000000       30.000000     396.998371        397.000000   \n",
       "25%       36.000000       41.000000     767.922539        772.726670   \n",
       "50%       98.000000       43.000000     969.499658        969.499998   \n",
       "75%      191.000000       45.000000     971.499948        971.499999   \n",
       "max     1113.000000       49.000000     973.517597        973.499999   \n",
       "\n",
       "       refVelocityFront  trackingDeviationFront  velocityFront  \n",
       "count      11227.000000            11227.000000   11227.000000  \n",
       "mean          74.485635                7.492794      74.490320  \n",
       "std          177.537284                1.709240     177.480053  \n",
       "min            5.000000                4.974877       4.958474  \n",
       "25%            6.000000                6.000415       6.000000  \n",
       "50%            8.000000                7.978946       8.000000  \n",
       "75%           10.000000                9.000394      10.000000  \n",
       "max          642.625119               10.006727     653.070908  "
      ]
     },
     "execution_count": 4,
     "metadata": {},
     "output_type": "execute_result"
    }
   ],
   "source": [
    "#Displaying the descriptive statistics of the training set\n",
    "train.describe()"
   ]
  },
  {
   "cell_type": "code",
   "execution_count": 5,
   "metadata": {},
   "outputs": [],
   "source": [
    "#Separating the train data into its features (X) and labels (y)\n",
    "X = train.drop('flag', axis=1)\n",
    "y = train['flag']"
   ]
  },
  {
   "cell_type": "markdown",
   "metadata": {},
   "source": [
    "### CHECKING FOR MISSING VALUES"
   ]
  },
  {
   "cell_type": "code",
   "execution_count": 6,
   "metadata": {},
   "outputs": [
    {
     "data": {
      "text/plain": [
       "timeindex                 0\n",
       "currentBack               0\n",
       "motorTempBack             0\n",
       "positionBack              0\n",
       "refPositionBack           0\n",
       "refVelocityBack           0\n",
       "trackingDeviationBack     0\n",
       "velocityBack              0\n",
       "currentFront              0\n",
       "motorTempFront            0\n",
       "positionFront             0\n",
       "refPositionFront          0\n",
       "refVelocityFront          0\n",
       "trackingDeviationFront    0\n",
       "velocityFront             0\n",
       "dtype: int64"
      ]
     },
     "execution_count": 6,
     "metadata": {},
     "output_type": "execute_result"
    }
   ],
   "source": [
    "#Displaying the number of missing values in each column of X.\n",
    "X.isnull().sum()"
   ]
  },
  {
   "cell_type": "code",
   "execution_count": 7,
   "metadata": {},
   "outputs": [
    {
     "data": {
      "text/plain": [
       "timeindex                 0\n",
       "currentBack               0\n",
       "motorTempBack             0\n",
       "positionBack              0\n",
       "refPositionBack           0\n",
       "refVelocityBack           0\n",
       "trackingDeviationBack     0\n",
       "velocityBack              0\n",
       "currentFront              0\n",
       "motorTempFront            0\n",
       "positionFront             0\n",
       "refPositionFront          0\n",
       "refVelocityFront          0\n",
       "trackingDeviationFront    0\n",
       "velocityFront             0\n",
       "dtype: int64"
      ]
     },
     "execution_count": 7,
     "metadata": {},
     "output_type": "execute_result"
    }
   ],
   "source": [
    "#Displaying the number of missing values in each column of the test data.\n",
    "test.isnull().sum()"
   ]
  },
  {
   "cell_type": "markdown",
   "metadata": {},
   "source": [
    "No missing values were found in the feature set X or in the test set."
   ]
  },
  {
   "cell_type": "code",
   "execution_count": 8,
   "metadata": {},
   "outputs": [
    {
     "name": "stdout",
     "output_type": "stream",
     "text": [
      "<class 'pandas.core.frame.DataFrame'>\n",
      "RangeIndex: 11227 entries, 0 to 11226\n",
      "Data columns (total 15 columns):\n",
      " #   Column                  Non-Null Count  Dtype  \n",
      "---  ------                  --------------  -----  \n",
      " 0   timeindex               11227 non-null  int64  \n",
      " 1   currentBack             11227 non-null  float64\n",
      " 2   motorTempBack           11227 non-null  int64  \n",
      " 3   positionBack            11227 non-null  float64\n",
      " 4   refPositionBack         11227 non-null  float64\n",
      " 5   refVelocityBack         11227 non-null  float64\n",
      " 6   trackingDeviationBack   11227 non-null  float64\n",
      " 7   velocityBack            11227 non-null  float64\n",
      " 8   currentFront            11227 non-null  float64\n",
      " 9   motorTempFront          11227 non-null  int64  \n",
      " 10  positionFront           11227 non-null  float64\n",
      " 11  refPositionFront        11227 non-null  float64\n",
      " 12  refVelocityFront        11227 non-null  float64\n",
      " 13  trackingDeviationFront  11227 non-null  float64\n",
      " 14  velocityFront           11227 non-null  float64\n",
      "dtypes: float64(12), int64(3)\n",
      "memory usage: 1.3 MB\n"
     ]
    }
   ],
   "source": [
    "#Displaying the information of the feature set X, such as column data types, non-null values and memory usage.\n",
    "X.info()"
   ]
  },
  {
   "cell_type": "markdown",
   "metadata": {},
   "source": [
    "All the features are numerical."
   ]
  },
  {
   "cell_type": "markdown",
   "metadata": {},
   "source": [
    "### VISUALIZING THE DISTRIBUTION OF EACH VARIABLE"
   ]
  },
  {
   "cell_type": "code",
   "execution_count": 9,
   "metadata": {},
   "outputs": [],
   "source": [
    "#Importing the seaborn library for data visualization\n",
    "import seaborn as sns"
   ]
  },
  {
   "cell_type": "code",
   "execution_count": 10,
   "metadata": {},
   "outputs": [
    {
     "data": {
      "text/plain": [
       "<matplotlib.axes._subplots.AxesSubplot at 0x7f6a6d06ce90>"
      ]
     },
     "execution_count": 10,
     "metadata": {},
     "output_type": "execute_result"
    },
    {
     "data": {
      "image/png": "[encoded data removed]",
      "text/plain": [
       "<Figure size 432x288 with 1 Axes>"
      ]
     },
     "metadata": {
      "needs_background": "light"
     },
     "output_type": "display_data"
    }
   ],
   "source": [
    "#Distribution plot of timeindex\n",
    "sns.distplot(X['timeindex'])"
   ]
  },
  {
   "cell_type": "code",
   "execution_count": 11,
   "metadata": {},
   "outputs": [
    {
     "data": {
      "text/plain": [
       "<matplotlib.axes._subplots.AxesSubplot at 0x7f6a6cef6750>"
      ]
     },
     "execution_count": 11,
     "metadata": {},
     "output_type": "execute_result"
    },
    {
     "data": {
      "image/png": "[encoded data removed]",
      "text/plain": [
       "<Figure size 432x288 with 1 Axes>"
      ]
     },
     "metadata": {
      "needs_background": "light"
     },
     "output_type": "display_data"
    }
   ],
   "source": [
    "#Distribution plot of currentBack\n",
    "sns.distplot(X['currentBack'])"
   ]
  },
  {
   "cell_type": "code",
   "execution_count": 12,
   "metadata": {},
   "outputs": [
    {
     "data": {
      "text/plain": [
       "<matplotlib.axes._subplots.AxesSubplot at 0x7f6a6ce93f50>"
      ]
     },
     "execution_count": 12,
     "metadata": {},
     "output_type": "execute_result"
    },
    {
     "data": {
      "image/png": "[encoded data removed]",
      "text/plain": [
       "<Figure size 432x288 with 1 Axes>"
      ]
     },
     "metadata": {
      "needs_background": "light"
     },
     "output_type": "display_data"
    }
   ],
   "source": [
    "#Distribution plot of motorTempBack\n",
    "sns.distplot(X['motorTempBack'])"
   ]
  },
  {
   "cell_type": "code",
   "execution_count": 13,
   "metadata": {},
   "outputs": [
    {
     "data": {
      "text/plain": [
       "<matplotlib.axes._subplots.AxesSubplot at 0x7f6a6ccf0650>"
      ]
     },
     "execution_count": 13,
     "metadata": {},
     "output_type": "execute_result"
    },
    {
     "data": {
      "image/png": "[encoded data removed]",
      "text/plain": [
       "<Figure size 432x288 with 1 Axes>"
      ]
     },
     "metadata": {
      "needs_background": "light"
     },
     "output_type": "display_data"
    }
   ],
   "source": [
    "#Distribution plot of positionBack\n",
    "sns.distplot(X['positionBack'])"
   ]
  },
  {
   "cell_type": "code",
   "execution_count": 14,
   "metadata": {},
   "outputs": [
    {
     "data": {
      "text/plain": [
       "<matplotlib.axes._subplots.AxesSubplot at 0x7f6a6cd1b190>"
      ]
     },
     "execution_count": 14,
     "metadata": {},
     "output_type": "execute_result"
    },
    {
     "data": {
      "image/png": "[encoded data removed]",
      "text/plain": [
       "<Figure size 432x288 with 1 Axes>"
      ]
     },
     "metadata": {
      "needs_background": "light"
     },
     "output_type": "display_data"
    }
   ],
   "source": [
    "#Distribution plot of refPositionBack\n",
    "sns.distplot(X['refPositionBack'])"
   ]
  },
  {
   "cell_type": "code",
   "execution_count": 15,
   "metadata": {},
   "outputs": [
    {
     "data": {
      "text/plain": [
       "<matplotlib.axes._subplots.AxesSubplot at 0x7f6a6cbf87d0>"
      ]
     },
     "execution_count": 15,
     "metadata": {},
     "output_type": "execute_result"
    },
    {
     "data": {
      "image/png": "[encoded data removed]",
      "text/plain": [
       "<Figure size 432x288 with 1 Axes>"
      ]
     },
     "metadata": {
      "needs_background": "light"
     },
     "output_type": "display_data"
    }
   ],
   "source": [
    "#Distribution plot of refVelocityBack\n",
    "sns.distplot(X['refVelocityBack'])"
   ]
  },
  {
   "cell_type": "code",
   "execution_count": 16,
   "metadata": {},
   "outputs": [
    {
     "data": {
      "text/plain": [
       "<matplotlib.axes._subplots.AxesSubplot at 0x7f6a6ca26290>"
      ]
     },
     "execution_count": 16,
     "metadata": {},
     "output_type": "execute_result"
    },
    {
     "data": {
      "image/png": "[encoded data removed]",
      "text/plain": [
       "<Figure size 432x288 with 1 Axes>"
      ]
     },
     "metadata": {
      "needs_background": "light"
     },
     "output_type": "display_data"
    }
   ],
   "source": [
    "#Distribution plot of currentFront\n",
    "sns.distplot(X['currentFront'])"
   ]
  },
  {
   "cell_type": "code",
   "execution_count": 17,
   "metadata": {},
   "outputs": [
    {
     "data": {
      "text/plain": [
       "<matplotlib.axes._subplots.AxesSubplot at 0x7f6a6cd907d0>"
      ]
     },
     "execution_count": 17,
     "metadata": {},
     "output_type": "execute_result"
    },
    {
     "data": {
      "image/png": "[encoded data removed]",
      "text/plain": [
       "<Figure size 432x288 with 1 Axes>"
      ]
     },
     "metadata": {
      "needs_background": "light"
     },
     "output_type": "display_data"
    }
   ],
   "source": [
    "#Distribution plot of motorTempFront\n",
    "sns.distplot(X['motorTempFront'])"
   ]
  },
  {
   "cell_type": "code",
   "execution_count": 18,
   "metadata": {},
   "outputs": [
    {
     "data": {
      "text/plain": [
       "<matplotlib.axes._subplots.AxesSubplot at 0x7f6a6c89ba90>"
      ]
     },
     "execution_count": 18,
     "metadata": {},
     "output_type": "execute_result"
    },
    {
     "data": {
      "image/png": "[encoded data removed]",
      "text/plain": [
       "<Figure size 432x288 with 1 Axes>"
      ]
     },
     "metadata": {
      "needs_background": "light"
     },
     "output_type": "display_data"
    }
   ],
   "source": [
    "#Distribution plot of positionFront\n",
    "sns.distplot(X['positionFront'])"
   ]
  },
  {
   "cell_type": "code",
   "execution_count": 19,
   "metadata": {},
   "outputs": [
    {
     "data": {
      "text/plain": [
       "<matplotlib.axes._subplots.AxesSubplot at 0x7f6a6c7adb50>"
      ]
     },
     "execution_count": 19,
     "metadata": {},
     "output_type": "execute_result"
    },
    {
     "data": {
      "image/png": "[encoded data removed]",
      "text/plain": [
       "<Figure size 432x288 with 1 Axes>"
      ]
     },
     "metadata": {
      "needs_background": "light"
     },
     "output_type": "display_data"
    }
   ],
   "source": [
    "#Distribution plot of refPositionFront\n",
    "sns.distplot(X['refPositionFront'])"
   ]
  },
  {
   "cell_type": "markdown",
   "metadata": {},
   "source": [
    "### ANALYZING THE CORRELATION MATRIX FOR THE TRAINING SET"
   ]
  },
  {
   "cell_type": "code",
   "execution_count": 20,
   "metadata": {},
   "outputs": [
    {
     "data": {
      "text/plain": [
       "<matplotlib.axes._subplots.AxesSubplot at 0x7f6a6c623f90>"
      ]
     },
     "execution_count": 20,
     "metadata": {},
     "output_type": "execute_result"
    },
    {
     "data": {
      "image/png": "[encoded data removed]",
      "text/plain": [
       "<Figure size 432x288 with 2 Axes>"
      ]
     },
     "metadata": {
      "needs_background": "light"
     },
     "output_type": "display_data"
    }
   ],
   "source": [
    "cor_matrix = train.corr()    #To obtain the correlation matrix\n",
    "sns.heatmap(cor_matrix)      #To obtain the heatmap of the correlaation matrix"
   ]
  },
  {
   "cell_type": "markdown",
   "metadata": {},
   "source": [
    "### CORRELATION BETWEEN THE FEATURES AND THE TARGET VARIABLE"
   ]
  },
  {
   "cell_type": "code",
   "execution_count": 21,
   "metadata": {},
   "outputs": [
    {
     "data": {
      "text/html": [
       "<div>\n",
       "<style scoped>\n",
       "    .dataframe tbody tr th:only-of-type {\n",
       "        vertical-align: middle;\n",
       "    }\n",
       "\n",
       "    .dataframe tbody tr th {\n",
       "        vertical-align: top;\n",
       "    }\n",
       "\n",
       "    .dataframe thead th {\n",
       "        text-align: right;\n",
       "    }\n",
       "</style>\n",
       "<table border=\"1\" class=\"dataframe\">\n",
       "  <thead>\n",
       "    <tr style=\"text-align: right;\">\n",
       "      <th></th>\n",
       "      <th>Col_names</th>\n",
       "      <th>Correlation</th>\n",
       "    </tr>\n",
       "  </thead>\n",
       "  <tbody>\n",
       "    <tr>\n",
       "      <th>1</th>\n",
       "      <td>currentBack</td>\n",
       "      <td>0.202685</td>\n",
       "    </tr>\n",
       "    <tr>\n",
       "      <th>9</th>\n",
       "      <td>motorTempFront</td>\n",
       "      <td>0.177750</td>\n",
       "    </tr>\n",
       "    <tr>\n",
       "      <th>2</th>\n",
       "      <td>motorTempBack</td>\n",
       "      <td>0.168416</td>\n",
       "    </tr>\n",
       "    <tr>\n",
       "      <th>8</th>\n",
       "      <td>currentFront</td>\n",
       "      <td>0.108213</td>\n",
       "    </tr>\n",
       "    <tr>\n",
       "      <th>0</th>\n",
       "      <td>timeindex</td>\n",
       "      <td>0.022282</td>\n",
       "    </tr>\n",
       "    <tr>\n",
       "      <th>13</th>\n",
       "      <td>trackingDeviationFront</td>\n",
       "      <td>0.004668</td>\n",
       "    </tr>\n",
       "    <tr>\n",
       "      <th>5</th>\n",
       "      <td>refVelocityBack</td>\n",
       "      <td>0.004356</td>\n",
       "    </tr>\n",
       "    <tr>\n",
       "      <th>7</th>\n",
       "      <td>velocityBack</td>\n",
       "      <td>0.004248</td>\n",
       "    </tr>\n",
       "    <tr>\n",
       "      <th>6</th>\n",
       "      <td>trackingDeviationBack</td>\n",
       "      <td>0.004209</td>\n",
       "    </tr>\n",
       "    <tr>\n",
       "      <th>14</th>\n",
       "      <td>velocityFront</td>\n",
       "      <td>0.004033</td>\n",
       "    </tr>\n",
       "    <tr>\n",
       "      <th>12</th>\n",
       "      <td>refVelocityFront</td>\n",
       "      <td>0.003983</td>\n",
       "    </tr>\n",
       "    <tr>\n",
       "      <th>4</th>\n",
       "      <td>refPositionBack</td>\n",
       "      <td>0.000459</td>\n",
       "    </tr>\n",
       "    <tr>\n",
       "      <th>10</th>\n",
       "      <td>positionFront</td>\n",
       "      <td>0.000443</td>\n",
       "    </tr>\n",
       "    <tr>\n",
       "      <th>11</th>\n",
       "      <td>refPositionFront</td>\n",
       "      <td>0.000313</td>\n",
       "    </tr>\n",
       "    <tr>\n",
       "      <th>3</th>\n",
       "      <td>positionBack</td>\n",
       "      <td>0.000239</td>\n",
       "    </tr>\n",
       "  </tbody>\n",
       "</table>\n",
       "</div>"
      ],
      "text/plain": [
       "                 Col_names  Correlation\n",
       "1              currentBack     0.202685\n",
       "9           motorTempFront     0.177750\n",
       "2            motorTempBack     0.168416\n",
       "8             currentFront     0.108213\n",
       "0                timeindex     0.022282\n",
       "13  trackingDeviationFront     0.004668\n",
       "5          refVelocityBack     0.004356\n",
       "7             velocityBack     0.004248\n",
       "6    trackingDeviationBack     0.004209\n",
       "14           velocityFront     0.004033\n",
       "12        refVelocityFront     0.003983\n",
       "4          refPositionBack     0.000459\n",
       "10           positionFront     0.000443\n",
       "11        refPositionFront     0.000313\n",
       "3             positionBack     0.000239"
      ]
     },
     "execution_count": 21,
     "metadata": {},
     "output_type": "execute_result"
    }
   ],
   "source": [
    "#Correlation between each feature and the target variable\n",
    "corr = X.corrwith(y)\n",
    "cor_df = pd.DataFrame({'Col_names': corr.index, 'Correlation': abs(corr.values)}).sort_values(by = 'Correlation', ascending = False)\n",
    "cor_df"
   ]
  },
  {
   "cell_type": "markdown",
   "metadata": {},
   "source": [
    "### APPLYING LOG TRANSFORMATIONS TO SKEWED DATA"
   ]
  },
  {
   "cell_type": "code",
   "execution_count": 22,
   "metadata": {},
   "outputs": [],
   "source": [
    "#Finding the positive-valued columns to apply log transormations\n",
    "pos_col = X[X>0]\n",
    "pos = pos_col.loc[:,pos_col.columns[pos_col.isnull().sum()==0]]"
   ]
  },
  {
   "cell_type": "code",
   "execution_count": 23,
   "metadata": {},
   "outputs": [
    {
     "data": {
      "text/plain": [
       "refVelocityBack           2.404473\n",
       "velocityBack              2.404358\n",
       "refVelocityFront          2.403512\n",
       "velocityFront             2.403479\n",
       "trackingDeviationBack     0.009110\n",
       "trackingDeviationFront    0.003304\n",
       "timeindex                 0.000000\n",
       "motorTempBack            -0.719667\n",
       "motorTempFront           -0.766119\n",
       "positionFront            -1.402413\n",
       "refPositionFront         -1.412663\n",
       "positionBack             -1.425881\n",
       "refPositionBack          -1.435783\n",
       "dtype: float64"
      ]
     },
     "execution_count": 23,
     "metadata": {},
     "output_type": "execute_result"
    }
   ],
   "source": [
    "#Finding the skewness of each feature\n",
    "from scipy.stats import skew \n",
    "skewness = pos.apply(lambda x: skew(x))\n",
    "skewness.sort_values(ascending=False)"
   ]
  },
  {
   "cell_type": "code",
   "execution_count": 24,
   "metadata": {},
   "outputs": [],
   "source": [
    "#Finding features with skewness greater than 0.5\n",
    "skewed_feature = skewness[abs(skewness) > 0.5].index\n",
    "\n",
    "#Applying log transformations to the skewed features\n",
    "trans_feature = np.log1p(X.loc[:, skewed_feature])\n",
    "X.loc[:, trans_feature.columns] = trans_feature"
   ]
  },
  {
   "cell_type": "markdown",
   "metadata": {},
   "source": [
    "### STANDARDIZATION"
   ]
  },
  {
   "cell_type": "code",
   "execution_count": 25,
   "metadata": {},
   "outputs": [],
   "source": [
    "from sklearn.preprocessing import StandardScaler\n",
    "X_scaled = StandardScaler().fit_transform(X)           #Standardizing train features\n",
    "X_scaled_test = StandardScaler().fit_transform(test)   #Standardizing test features"
   ]
  },
  {
   "cell_type": "markdown",
   "metadata": {},
   "source": [
    "### SPLITTING INTO TRAIN AND TEST SETS"
   ]
  },
  {
   "cell_type": "code",
   "execution_count": 26,
   "metadata": {},
   "outputs": [],
   "source": [
    "#Splitting into training and testing sets\n",
    "from sklearn.model_selection import train_test_split\n",
    "X_train, X_test, y_train, y_test = train_test_split(X_scaled, y, test_size = 0.2, random_state = 4, stratify = y)"
   ]
  },
  {
   "cell_type": "markdown",
   "metadata": {},
   "source": [
    "### REMOVING CLASS IMBALANCE"
   ]
  },
  {
   "cell_type": "code",
   "execution_count": 27,
   "metadata": {},
   "outputs": [],
   "source": [
    "#Importing the matplotlib library to plot graphs\n",
    "import matplotlib.pyplot as plt"
   ]
  },
  {
   "cell_type": "code",
   "execution_count": 28,
   "metadata": {},
   "outputs": [
    {
     "data": {
      "text/plain": [
       "<BarContainer object of 2 artists>"
      ]
     },
     "execution_count": 28,
     "metadata": {},
     "output_type": "execute_result"
    },
    {
     "data": {
      "image/png": "[encoded data removed]",
      "text/plain": [
       "<Figure size 432x288 with 1 Axes>"
      ]
     },
     "metadata": {
      "needs_background": "light"
     },
     "output_type": "display_data"
    }
   ],
   "source": [
    "#Bar plot showing class imbalance\n",
    "plt.bar(y_train.value_counts().index, y_train.value_counts().values)"
   ]
  },
  {
   "cell_type": "code",
   "execution_count": 29,
   "metadata": {},
   "outputs": [
    {
     "name": "stderr",
     "output_type": "stream",
     "text": [
      "Using TensorFlow backend.\n"
     ]
    }
   ],
   "source": [
    "#Correcting class imbalance by over-sampling using SMOTE\n",
    "import tensorflow\n",
    "from imblearn import under_sampling, over_sampling\n",
    "from imblearn.over_sampling import SMOTE\n",
    "smote = SMOTE()\n",
    "X_smot, y_smot = SMOTE().fit_sample(X_train, y_train)"
   ]
  },
  {
   "cell_type": "code",
   "execution_count": 30,
   "metadata": {},
   "outputs": [
    {
     "data": {
      "text/plain": [
       "<BarContainer object of 2 artists>"
      ]
     },
     "execution_count": 30,
     "metadata": {},
     "output_type": "execute_result"
    },
    {
     "data": {
      "image/png": "[encoded data removed]",
      "text/plain": [
       "<Figure size 432x288 with 1 Axes>"
      ]
     },
     "metadata": {
      "needs_background": "light"
     },
     "output_type": "display_data"
    }
   ],
   "source": [
    "#Bar plot showing correction of class imbalance\n",
    "plt.bar(y_smot.value_counts().index, y_smot.value_counts().values)"
   ]
  },
  {
   "cell_type": "markdown",
   "metadata": {},
   "source": [
    "### FITTING A LOGISTIC REGRESSION MODEL"
   ]
  },
  {
   "cell_type": "code",
   "execution_count": 31,
   "metadata": {},
   "outputs": [
    {
     "name": "stderr",
     "output_type": "stream",
     "text": [
      "/opt/conda/lib/python3.7/site-packages/sklearn/linear_model/_logistic.py:940: ConvergenceWarning: lbfgs failed to converge (status=1):\n",
      "STOP: TOTAL NO. of ITERATIONS REACHED LIMIT.\n",
      "\n",
      "Increase the number of iterations (max_iter) or scale the data as shown in:\n",
      "    https://scikit-learn.org/stable/modules/preprocessing.html\n",
      "Please also refer to the documentation for alternative solver options:\n",
      "    https://scikit-learn.org/stable/modules/linear_model.html#logistic-regression\n",
      "  extra_warning_msg=_LOGISTIC_SOLVER_CONVERGENCE_MSG)\n"
     ]
    }
   ],
   "source": [
    "from sklearn.linear_model import LogisticRegression\n",
    "from sklearn.metrics import f1_score\n",
    "\n",
    "#Fitting Logistic Regression model\n",
    "log = LogisticRegression().fit(X_smot, y_smot)"
   ]
  },
  {
   "cell_type": "code",
   "execution_count": 32,
   "metadata": {},
   "outputs": [],
   "source": [
    "#Predicting class labels using the trained logit regression model\n",
    "y_hat1 = log.predict(X_test)"
   ]
  },
  {
   "cell_type": "code",
   "execution_count": 33,
   "metadata": {},
   "outputs": [
    {
     "data": {
      "text/plain": [
       "0.6291502532357907"
      ]
     },
     "execution_count": 33,
     "metadata": {},
     "output_type": "execute_result"
    }
   ],
   "source": [
    "#Finding the F1-score of the logit regression model\n",
    "f1 = f1_score(y_test, y_hat1)\n",
    "f1"
   ]
  },
  {
   "cell_type": "markdown",
   "metadata": {},
   "source": [
    "### FITTING A RANDOM FOREST MODEL"
   ]
  },
  {
   "cell_type": "code",
   "execution_count": 34,
   "metadata": {},
   "outputs": [],
   "source": [
    "from sklearn.ensemble import RandomForestClassifier\n",
    "\n",
    "#Fitting Random Forest Classifier\n",
    "rf = RandomForestClassifier().fit(X_smot ,y_smot)"
   ]
  },
  {
   "cell_type": "code",
   "execution_count": 35,
   "metadata": {},
   "outputs": [],
   "source": [
    "#Predicting class labels using the trained Random Forest model\n",
    "y_hat2 = rf.predict(X_test)"
   ]
  },
  {
   "cell_type": "code",
   "execution_count": 36,
   "metadata": {},
   "outputs": [
    {
     "data": {
      "text/plain": [
       "0.8563049853372434"
      ]
     },
     "execution_count": 36,
     "metadata": {},
     "output_type": "execute_result"
    }
   ],
   "source": [
    "#Finding the F1-score of the Random Forest model\n",
    "f2 = f1_score(y_test, y_hat2)\n",
    "f2"
   ]
  },
  {
   "cell_type": "code",
   "execution_count": 37,
   "metadata": {},
   "outputs": [
    {
     "data": {
      "text/html": [
       "<div>\n",
       "<style scoped>\n",
       "    .dataframe tbody tr th:only-of-type {\n",
       "        vertical-align: middle;\n",
       "    }\n",
       "\n",
       "    .dataframe tbody tr th {\n",
       "        vertical-align: top;\n",
       "    }\n",
       "\n",
       "    .dataframe thead th {\n",
       "        text-align: right;\n",
       "    }\n",
       "</style>\n",
       "<table border=\"1\" class=\"dataframe\">\n",
       "  <thead>\n",
       "    <tr style=\"text-align: right;\">\n",
       "      <th></th>\n",
       "      <th>Col_names</th>\n",
       "      <th>FI</th>\n",
       "    </tr>\n",
       "  </thead>\n",
       "  <tbody>\n",
       "    <tr>\n",
       "      <th>0</th>\n",
       "      <td>timeindex</td>\n",
       "      <td>0.034439</td>\n",
       "    </tr>\n",
       "    <tr>\n",
       "      <th>1</th>\n",
       "      <td>currentBack</td>\n",
       "      <td>0.304764</td>\n",
       "    </tr>\n",
       "    <tr>\n",
       "      <th>2</th>\n",
       "      <td>motorTempBack</td>\n",
       "      <td>0.051766</td>\n",
       "    </tr>\n",
       "    <tr>\n",
       "      <th>3</th>\n",
       "      <td>positionBack</td>\n",
       "      <td>0.041144</td>\n",
       "    </tr>\n",
       "    <tr>\n",
       "      <th>4</th>\n",
       "      <td>refPositionBack</td>\n",
       "      <td>0.025209</td>\n",
       "    </tr>\n",
       "    <tr>\n",
       "      <th>5</th>\n",
       "      <td>refVelocityBack</td>\n",
       "      <td>0.034128</td>\n",
       "    </tr>\n",
       "    <tr>\n",
       "      <th>6</th>\n",
       "      <td>trackingDeviationBack</td>\n",
       "      <td>0.091829</td>\n",
       "    </tr>\n",
       "    <tr>\n",
       "      <th>7</th>\n",
       "      <td>velocityBack</td>\n",
       "      <td>0.039443</td>\n",
       "    </tr>\n",
       "    <tr>\n",
       "      <th>8</th>\n",
       "      <td>currentFront</td>\n",
       "      <td>0.122555</td>\n",
       "    </tr>\n",
       "    <tr>\n",
       "      <th>9</th>\n",
       "      <td>motorTempFront</td>\n",
       "      <td>0.061996</td>\n",
       "    </tr>\n",
       "    <tr>\n",
       "      <th>10</th>\n",
       "      <td>positionFront</td>\n",
       "      <td>0.042416</td>\n",
       "    </tr>\n",
       "    <tr>\n",
       "      <th>11</th>\n",
       "      <td>refPositionFront</td>\n",
       "      <td>0.024289</td>\n",
       "    </tr>\n",
       "    <tr>\n",
       "      <th>12</th>\n",
       "      <td>refVelocityFront</td>\n",
       "      <td>0.033883</td>\n",
       "    </tr>\n",
       "    <tr>\n",
       "      <th>13</th>\n",
       "      <td>trackingDeviationFront</td>\n",
       "      <td>0.048906</td>\n",
       "    </tr>\n",
       "    <tr>\n",
       "      <th>14</th>\n",
       "      <td>velocityFront</td>\n",
       "      <td>0.043234</td>\n",
       "    </tr>\n",
       "  </tbody>\n",
       "</table>\n",
       "</div>"
      ],
      "text/plain": [
       "                 Col_names        FI\n",
       "0                timeindex  0.034439\n",
       "1              currentBack  0.304764\n",
       "2            motorTempBack  0.051766\n",
       "3             positionBack  0.041144\n",
       "4          refPositionBack  0.025209\n",
       "5          refVelocityBack  0.034128\n",
       "6    trackingDeviationBack  0.091829\n",
       "7             velocityBack  0.039443\n",
       "8             currentFront  0.122555\n",
       "9           motorTempFront  0.061996\n",
       "10           positionFront  0.042416\n",
       "11        refPositionFront  0.024289\n",
       "12        refVelocityFront  0.033883\n",
       "13  trackingDeviationFront  0.048906\n",
       "14           velocityFront  0.043234"
      ]
     },
     "execution_count": 37,
     "metadata": {},
     "output_type": "execute_result"
    }
   ],
   "source": [
    "#Finding Feature Importance\n",
    "FI = rf.feature_importances_\n",
    "df = pd.DataFrame({'Col_names': X.columns.tolist(), 'FI': FI})\n",
    "df"
   ]
  },
  {
   "cell_type": "code",
   "execution_count": 38,
   "metadata": {},
   "outputs": [
    {
     "data": {
      "text/plain": [
       "<BarContainer object of 15 artists>"
      ]
     },
     "execution_count": 38,
     "metadata": {},
     "output_type": "execute_result"
    },
    {
     "data": {
      "image/png": "[encoded data removed]",
      "text/plain": [
       "<Figure size 432x288 with 1 Axes>"
      ]
     },
     "metadata": {
      "needs_background": "light"
     },
     "output_type": "display_data"
    }
   ],
   "source": [
    "#Bar plot showing the importance of each feature\n",
    "plt.barh(df.Col_names, df.FI)"
   ]
  },
  {
   "cell_type": "markdown",
   "metadata": {},
   "source": [
    "### FITTING AN SVM MODEL"
   ]
  },
  {
   "cell_type": "code",
   "execution_count": 39,
   "metadata": {},
   "outputs": [],
   "source": [
    "from sklearn.svm import SVC\n",
    "\n",
    "#Fitting Support Vector Machine\n",
    "svc = SVC().fit(X_smot, y_smot)"
   ]
  },
  {
   "cell_type": "code",
   "execution_count": 40,
   "metadata": {},
   "outputs": [],
   "source": [
    "#Predicting class labels using the trained SVM model\n",
    "y_hat3 = svc.predict(X_test)"
   ]
  },
  {
   "cell_type": "code",
   "execution_count": 41,
   "metadata": {},
   "outputs": [
    {
     "data": {
      "text/plain": [
       "0.7043865225683408"
      ]
     },
     "execution_count": 41,
     "metadata": {},
     "output_type": "execute_result"
    }
   ],
   "source": [
    "#Finding the F1-score of the SVM model\n",
    "f3 = f1_score(y_test, y_hat3)\n",
    "f3"
   ]
  },
  {
   "cell_type": "markdown",
   "metadata": {},
   "source": [
    "### FITTING A KNN MODEL"
   ]
  },
  {
   "cell_type": "code",
   "execution_count": 42,
   "metadata": {},
   "outputs": [],
   "source": [
    "from sklearn.neighbors import KNeighborsClassifier\n",
    "\n",
    "#Fitting K-Nearest Neighbor Classifier\n",
    "knn = KNeighborsClassifier().fit(X_smot, y_smot)"
   ]
  },
  {
   "cell_type": "code",
   "execution_count": 43,
   "metadata": {},
   "outputs": [],
   "source": [
    "#Predicting class labels using the trained KNN model\n",
    "y_hat4 = knn.predict(X_test)"
   ]
  },
  {
   "cell_type": "code",
   "execution_count": 44,
   "metadata": {},
   "outputs": [
    {
     "data": {
      "text/plain": [
       "0.5927170868347339"
      ]
     },
     "execution_count": 44,
     "metadata": {},
     "output_type": "execute_result"
    }
   ],
   "source": [
    "#Finding the F1-score of the KNN model\n",
    "f4 = f1_score(y_test, y_hat4)\n",
    "f4"
   ]
  },
  {
   "cell_type": "markdown",
   "metadata": {},
   "source": [
    "RANDOM FOREST SHOWED THE HIGHEST F1 SCORE"
   ]
  },
  {
   "cell_type": "code",
   "execution_count": 45,
   "metadata": {},
   "outputs": [
    {
     "data": {
      "text/plain": [
       "array([1, 0, 1, ..., 1, 1, 1])"
      ]
     },
     "execution_count": 45,
     "metadata": {},
     "output_type": "execute_result"
    }
   ],
   "source": [
    "#Finding the class labels for the test dataset using Random Forest model\n",
    "pred = rf.predict(X_scaled_test)\n",
    "pred"
   ]
  }
 ],
 "metadata": {
  "kernelspec": {
   "display_name": "Python 3",
   "language": "python",
   "name": "python3"
  },
  "language_info": {
   "codemirror_mode": {
    "name": "ipython",
    "version": 3
   },
   "file_extension": ".py",
   "mimetype": "text/x-python",
   "name": "python",
   "nbconvert_exporter": "python",
   "pygments_lexer": "ipython3",
   "version": "3.7.4"
  }
 },
 "nbformat": 4,
 "nbformat_minor": 4
}
